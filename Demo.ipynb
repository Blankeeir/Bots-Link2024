{
 "cells": [
  {
   "cell_type": "markdown",
   "metadata": {},
   "source": [
    "# Demo for Model 'BOTS' training \n",
    "## For  candidate span and fitting with annotated notes by clinic doctors"
   ]
  },
  {
   "cell_type": "markdown",
   "metadata": {},
   "source": [
    "### Scoring "
   ]
  },
  {
   "cell_type": "code",
   "execution_count": null,
   "metadata": {},
   "outputs": [],
   "source": [
    "from pathlib import Path\n",
    "from typing import List\n",
    "\n",
    "import numpy as np\n",
    "import pandas as pd\n",
    "import scipy.sparse as sp\n",
    "import typer\n",
    "\n",
    "\n",
    "def iou_per_class(user_annotations: pd.DataFrame, target_annotations: pd.DataFrame) -> List[float]:\n",
    "    \"\"\"\n",
    "    Calculate the IoU metric for each class in a set of annotations.\n",
    "    \"\"\"\n",
    "    # Get mapping from note_id to index in array\n",
    "    docs = np.unique(np.concatenate([user_annotations.note_id, target_annotations.note_id]))\n",
    "    doc_index_mapping = dict(zip(docs, range(len(docs))))\n",
    "\n",
    "    # Identify union of categories in GT and PRED\n",
    "    cats = np.unique(np.concatenate([user_annotations.concept_id, target_annotations.concept_id]))\n",
    "\n",
    "    # Find max character index in GT or PRED\n",
    "    max_end = np.max(np.concatenate([user_annotations.end, target_annotations.end]))\n",
    "\n",
    "    # Populate matrices for keeping track of character class categorization\n",
    "    def populate_char_mtx(n_rows, n_cols, annot_df):\n",
    "        mtx = sp.lil_array((n_rows, n_cols), dtype=np.uint64)\n",
    "        for row in annot_df.itertuples():\n",
    "            doc_index = doc_index_mapping[row.note_id]\n",
    "            mtx[doc_index, row.start : row.end] = row.concept_id  # noqa: E203\n",
    "        return mtx.tocsr()\n",
    "\n",
    "    gt_mtx = populate_char_mtx(docs.shape[0], max_end, target_annotations)\n",
    "    pred_mtx = populate_char_mtx(docs.shape[0], max_end, user_annotations)\n",
    "\n",
    "    # Calculate IoU per category\n",
    "    ious = []\n",
    "    for cat in cats:\n",
    "        gt_cat = gt_mtx == cat\n",
    "        pred_cat = pred_mtx == cat\n",
    "        # sparse matrices don't support bitwise operators, but the _cat matrices\n",
    "        # have bool dtypes so when we multiply/add them we end up with only T/F values\n",
    "        intersection = gt_cat * pred_cat\n",
    "        union = gt_cat + pred_cat\n",
    "        iou = intersection.sum() / union.sum()\n",
    "        ious.append(iou)\n",
    "\n",
    "    return ious\n",
    "\n",
    "\n",
    "def main(\n",
    "    user_annotations_path: Path,\n",
    "    target_annotations_path: Path,\n",
    "):\n",
    "    \"\"\"\n",
    "    Calculate the macro-averaged character IoU metric for each class in a set of annotations.\n",
    "    \"\"\"\n",
    "    user_annotations = pd.read_csv(user_annotations_path)\n",
    "    target_annotations = pd.read_csv(target_annotations_path)\n",
    "    ious = iou_per_class(user_annotations, target_annotations)\n",
    "    print(f\"macro-averaged character IoU metric: {np.mean(ious):0.4f}\")\n",
    "\n",
    "if __name__ == \"__main__\":\n",
    "    typer.run(main)"
   ]
  }
 ],
 "metadata": {
  "kernelspec": {
   "display_name": "Python 3",
   "language": "python",
   "name": "python3"
  },
  "language_info": {
   "codemirror_mode": {
    "name": "ipython",
    "version": 3
   },
   "file_extension": ".py",
   "mimetype": "text/x-python",
   "name": "python",
   "nbconvert_exporter": "python",
   "pygments_lexer": "ipython3",
   "version": "3.12.1"
  }
 },
 "nbformat": 4,
 "nbformat_minor": 2
}
